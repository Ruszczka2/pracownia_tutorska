{
 "cells": [
  {
   "cell_type": "markdown",
   "id": "7736950d",
   "metadata": {},
   "source": [
    "# Tworzenie datasetu do wykorzystania dla modelu"
   ]
  },
  {
   "cell_type": "code",
   "execution_count": null,
   "id": "81ec79e7",
   "metadata": {},
   "outputs": [],
   "source": [
    "import numpy as np\n",
    "import pandas as pd\n",
    "from grounding_dino.groundingdino.util.inference import load_image\n",
    "import cv2"
   ]
  },
  {
   "cell_type": "markdown",
   "id": "cfa46b29",
   "metadata": {},
   "source": [
    "Pobranie odpowiednich danych"
   ]
  },
  {
   "cell_type": "code",
   "execution_count": 10,
   "id": "c4d213ac",
   "metadata": {},
   "outputs": [],
   "source": [
    "masks_array = np.load('data2/masks_array.npy')\n",
    "incomplete_detect = np.load('data2/incomplete_detect.npy')\n",
    "df = pd.read_csv('data2/df.csv')"
   ]
  },
  {
   "cell_type": "code",
   "execution_count": null,
   "id": "24328d3a",
   "metadata": {},
   "outputs": [],
   "source": []
  },
  {
   "cell_type": "markdown",
   "id": "4c0d3951",
   "metadata": {},
   "source": [
    "Znalezienie środków dla każdej maski/elementu chwytaka"
   ]
  },
  {
   "cell_type": "code",
   "execution_count": 13,
   "id": "2f187c31",
   "metadata": {},
   "outputs": [
    {
     "name": "stdout",
     "output_type": "stream",
     "text": [
      "xyz_array shape -> (172, 9)\n"
     ]
    }
   ],
   "source": [
    "xyz_array = []\n",
    "\n",
    "for i in range(0, masks_array.shape[0]):\n",
    "\n",
    "  # Załadowanie obrazu głębokości\n",
    "  depth_img, _ = load_image(df['depth_path'][i])\n",
    "  depth_img = depth_img[:, :, 0]\n",
    "\n",
    "  tmp = []\n",
    "\n",
    "  for j in range(0, masks_array.shape[1]):\n",
    "\n",
    "    # Utworzenie maski\n",
    "    mask = (masks_array[i][j] * depth_img)\n",
    "  \n",
    "    # Obliczanie momentów\n",
    "    moments = cv2.moments(mask)\n",
    "\n",
    "    # Wysokość maski\n",
    "    y_indices, x_indices = np.where(mask > 0)\n",
    "    if len(y_indices) == 0 or len(x_indices) == 0:\n",
    "      tmp.extend([0, 0, 0,])\n",
    "      continue\n",
    "    mask_height = np.max(y_indices) - np.min(y_indices) + 1\n",
    "    mask_width = np.max(x_indices) - np.min(x_indices) + 1\n",
    "\n",
    "    # Momenty centralne\n",
    "    m10 = moments['m10']\n",
    "    m01 = moments['m01']\n",
    "    m00 = moments['m00']\n",
    "\n",
    "    # Środki masy\n",
    "    if m00 == 0:\n",
    "      tmp.extend([0, 0, 0,])\n",
    "    else:\n",
    "      x = m10/m00\n",
    "      y = m01/m00\n",
    "      z = np.mean(mask[mask > 0])\n",
    "      tmp.extend([x, y, z])\n",
    "  xyz_array.append(tmp)\n",
    "\n",
    "xyz_array = np.array(xyz_array)\n",
    "print(f\"xyz_array shape -> {xyz_array.shape}\")"
   ]
  },
  {
   "cell_type": "code",
   "execution_count": 14,
   "id": "aba8efb4",
   "metadata": {},
   "outputs": [
    {
     "data": {
      "text/plain": [
       "(172, 8)"
      ]
     },
     "execution_count": 14,
     "metadata": {},
     "output_type": "execute_result"
    }
   ],
   "source": [
    "model_cols = ['ESJoint1',\t'ESJoint2',\t'ESJoint3',\t'ESJoint4',\t'ESJoint5',\t'ESJoint6',\n",
    "              'gripper_finger_1_joint',\t'gripper_finger_2_joint']\n",
    "df_array = df[model_cols].to_numpy()\n",
    "df_array.shape"
   ]
  },
  {
   "cell_type": "markdown",
   "id": "665a9b6d",
   "metadata": {},
   "source": [
    "połączenie całego przetworzonego zbioru danych"
   ]
  },
  {
   "cell_type": "code",
   "execution_count": 15,
   "id": "e69803a1",
   "metadata": {},
   "outputs": [
    {
     "data": {
      "text/plain": [
       "(172, 17)"
      ]
     },
     "execution_count": 15,
     "metadata": {},
     "output_type": "execute_result"
    }
   ],
   "source": [
    "data = np.concatenate((xyz_array, df_array), axis=1)\n",
    "data.shape"
   ]
  },
  {
   "cell_type": "markdown",
   "id": "819332ab",
   "metadata": {},
   "source": [
    "Usunięcie danych, gdzie nie wykryto maski"
   ]
  },
  {
   "cell_type": "code",
   "execution_count": 16,
   "id": "d1fd484c",
   "metadata": {},
   "outputs": [
    {
     "data": {
      "text/plain": [
       "(130, 17)"
      ]
     },
     "execution_count": 16,
     "metadata": {},
     "output_type": "execute_result"
    }
   ],
   "source": [
    "# delete incomplete_detect\n",
    "data = np.delete(data, incomplete_detect, axis=0)\n",
    "data.shape"
   ]
  },
  {
   "cell_type": "markdown",
   "id": "439ab1f0",
   "metadata": {},
   "source": [
    "Utworzenie zbioru danych do uczenia - pary pozycji"
   ]
  },
  {
   "cell_type": "code",
   "execution_count": null,
   "id": "46fc02f0",
   "metadata": {},
   "outputs": [
    {
     "name": "stderr",
     "output_type": "stream",
     "text": [
      "100%|██████████| 130/130 [00:00<00:00, 1442.96it/s]\n"
     ]
    },
    {
     "name": "stdout",
     "output_type": "stream",
     "text": [
      "8060\n",
      "(8060, 25)\n",
      "[ 8.87935516e-01 -5.47134821e-01 -1.71423340e+00  2.45226331e-01\n",
      "  1.68362086e-01 -9.46197510e-02  6.87337319e-02 -3.65825385e-01\n",
      " -4.08859253e-01  3.42310500e+00  1.23096900e+00  1.93243200e+00\n",
      "  1.52780100e+00  1.58762000e+00  2.66337400e+00  6.03365000e-01\n",
      "  9.05047000e-01 -2.94000000e-04  5.88000000e-04  2.94000000e-04\n",
      " -5.27000000e-04  1.72600000e-03 -2.20500000e-03 -5.11300000e-03\n",
      "  0.00000000e+00]\n"
     ]
    }
   ],
   "source": [
    "from sklearn.neighbors import NearestNeighbors\n",
    "from tqdm import tqdm\n",
    "\n",
    "k = 62\n",
    "robot_coords = data[:, 9:17]\n",
    "nbrs = NearestNeighbors(n_neighbors=k+1, algorithm='auto').fit(robot_coords)\n",
    "\n",
    "ds = []\n",
    "for i in tqdm(range(data.shape[0])):\n",
    "    distances, indices = nbrs.kneighbors([robot_coords[i]])\n",
    "    # indices[0][1:] - bo pierwszy to te same współrzędne\n",
    "    for j in indices[0][1:]:\n",
    "        ds.append(np.concatenate([\n",
    "            data[i, 0:9] - data[j, 0:9],  # X - przemiezczenie elementów chwytaka\n",
    "            data[i, 9:17],                # X - współrzędne robota 1\n",
    "            data[i, 9:17] - data[j, 9:17] # Y - różnica współrzędnych \n",
    "        ]))\n",
    "print(len(ds))\n",
    "ds = np.array(ds)\n",
    "print(ds.shape)\n",
    "print(ds[0])\n",
    "\n",
    "y_cols =[\n",
    "  'x1', 'y1', 'z1', 'x2', 'y2', 'z2', 'x3', 'y3', 'z3',\n",
    "  'J1', 'J2', 'J3', 'J4', 'J5', 'J6', 'G1', 'G2',\n",
    "  'dJ1', 'dJ2', 'dJ3', 'dJ4', 'dJ5', 'dJ6', 'dG1', 'dG2'\n",
    "]\n",
    "df_training = pd.DataFrame(ds, columns=y_cols)\n",
    "df_training.to_csv('data2/df_training.csv', index=False)"
   ]
  }
 ],
 "metadata": {
  "kernelspec": {
   "display_name": ".GDSAM",
   "language": "python",
   "name": "python3"
  },
  "language_info": {
   "codemirror_mode": {
    "name": "ipython",
    "version": 3
   },
   "file_extension": ".py",
   "mimetype": "text/x-python",
   "name": "python",
   "nbconvert_exporter": "python",
   "pygments_lexer": "ipython3",
   "version": "3.12.3"
  }
 },
 "nbformat": 4,
 "nbformat_minor": 5
}
